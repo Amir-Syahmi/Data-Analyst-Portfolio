{
 "cells": [
  {
   "cell_type": "markdown",
   "metadata": {},
   "source": [
    "## System requirements :\n",
    "Install the pydrive python module as follows :\n",
    "\n",
    "a) pip install mysql-connector-python\n",
    "\n",
    "b) pip install pandas\n",
    "\n",
    "c) MySQL Workbench with mysql"
   ]
  },
  {
   "cell_type": "markdown",
   "metadata": {},
   "source": [
    "## Step 1: Prepare and import the CSV File into Pandas dataframe\n",
    "To begin, prepare the CSV file that you'd like to import to MySQL."
   ]
  },
  {
   "cell_type": "code",
   "execution_count": 1,
   "metadata": {},
   "outputs": [
    {
     "data": {
      "text/html": [
       "<div>\n",
       "<style scoped>\n",
       "    .dataframe tbody tr th:only-of-type {\n",
       "        vertical-align: middle;\n",
       "    }\n",
       "\n",
       "    .dataframe tbody tr th {\n",
       "        vertical-align: top;\n",
       "    }\n",
       "\n",
       "    .dataframe thead th {\n",
       "        text-align: right;\n",
       "    }\n",
       "</style>\n",
       "<table border=\"1\" class=\"dataframe\">\n",
       "  <thead>\n",
       "    <tr style=\"text-align: right;\">\n",
       "      <th></th>\n",
       "      <th>Date</th>\n",
       "      <th>Rain mm</th>\n",
       "      <th>Station ID</th>\n",
       "      <th>Year</th>\n",
       "      <th>Month</th>\n",
       "      <th>Day</th>\n",
       "    </tr>\n",
       "  </thead>\n",
       "  <tbody>\n",
       "    <tr>\n",
       "      <th>0</th>\n",
       "      <td>1957-03-01</td>\n",
       "      <td>0.0</td>\n",
       "      <td>4234109</td>\n",
       "      <td>1957</td>\n",
       "      <td>3</td>\n",
       "      <td>1</td>\n",
       "    </tr>\n",
       "    <tr>\n",
       "      <th>1</th>\n",
       "      <td>1957-03-02</td>\n",
       "      <td>2.5</td>\n",
       "      <td>4234109</td>\n",
       "      <td>1957</td>\n",
       "      <td>3</td>\n",
       "      <td>2</td>\n",
       "    </tr>\n",
       "    <tr>\n",
       "      <th>2</th>\n",
       "      <td>1957-03-03</td>\n",
       "      <td>1.3</td>\n",
       "      <td>4234109</td>\n",
       "      <td>1957</td>\n",
       "      <td>3</td>\n",
       "      <td>3</td>\n",
       "    </tr>\n",
       "    <tr>\n",
       "      <th>3</th>\n",
       "      <td>1957-03-04</td>\n",
       "      <td>0.0</td>\n",
       "      <td>4234109</td>\n",
       "      <td>1957</td>\n",
       "      <td>3</td>\n",
       "      <td>4</td>\n",
       "    </tr>\n",
       "    <tr>\n",
       "      <th>4</th>\n",
       "      <td>1957-03-05</td>\n",
       "      <td>0.0</td>\n",
       "      <td>4234109</td>\n",
       "      <td>1957</td>\n",
       "      <td>3</td>\n",
       "      <td>5</td>\n",
       "    </tr>\n",
       "  </tbody>\n",
       "</table>\n",
       "</div>"
      ],
      "text/plain": [
       "         Date  Rain mm  Station ID  Year  Month  Day\n",
       "0  1957-03-01      0.0     4234109  1957      3    1\n",
       "1  1957-03-02      2.5     4234109  1957      3    2\n",
       "2  1957-03-03      1.3     4234109  1957      3    3\n",
       "3  1957-03-04      0.0     4234109  1957      3    4\n",
       "4  1957-03-05      0.0     4234109  1957      3    5"
      ]
     },
     "execution_count": 1,
     "metadata": {},
     "output_type": "execute_result"
    }
   ],
   "source": [
    "import pandas as pd\n",
    "raw_data = pd.read_csv(\"OriginalPreProcessed.csv\") #manually type csv file address if not in same folder as this .ipynb file\n",
    "raw_data.head()"
   ]
  },
  {
   "cell_type": "markdown",
   "metadata": {},
   "source": [
    "## Step 2 : Connect to the MySQL using Python and create a Database\n",
    "Create a connection object to connect to MySQL, The connect() constructor creates a connection to the MySQL and returns a MySQLConnection object. Skip this step if proper database already existed in your mySQL server."
   ]
  },
  {
   "cell_type": "code",
   "execution_count": null,
   "metadata": {},
   "outputs": [],
   "source": [
    "import mysql.connector as msql\n",
    "from mysql.connector import Error\n",
    "try:\n",
    "    conn = msql.connect(host='localhost', user='root',  \n",
    "                        password='password')#give your mysql workbench username, password\n",
    "    if conn.is_connected():\n",
    "        cursor = conn.cursor()\n",
    "        cursor.execute(\"CREATE DATABASE rainfall\") #name your mysql database here\n",
    "        print(\"Database is created\")\n",
    "except Error as e:\n",
    "    print(\"Error while connecting to MySQL\", e)"
   ]
  },
  {
   "cell_type": "markdown",
   "metadata": {},
   "source": [
    "## Step 3 : Create a table and Import the CSV data into the MySQL table\n",
    "We will create an employee_data table under the employee database and insert the records in MySQL with below python code."
   ]
  },
  {
   "cell_type": "code",
   "execution_count": null,
   "metadata": {},
   "outputs": [],
   "source": [
    "import mysql.connector as msql\n",
    "from mysql.connector import Error\n",
    "try:\n",
    "    conn = msql.connect(host='localhost', database='rainfall', user='root', password='password')\n",
    "    if conn.is_connected():\n",
    "        cursor = conn.cursor()\n",
    "        cursor.execute(\"select database();\")\n",
    "        record = cursor.fetchone()\n",
    "        print(\"You're connected to database: \", record)\n",
    "        cursor.execute('DROP TABLE IF EXISTS rainfall_data;')\n",
    "        print('Creating table....')\n",
    "# in the below line please pass the create table statement which you want #to create\n",
    "        cursor.execute(\"CREATE TABLE rainfall_data(date_recorded date,rain_mm float(1),station_id int,year int,month int, day int)\")\n",
    "        print(\"Table is created....\")\n",
    "        #loop through the data frame\n",
    "        for i,row in raw_data.iterrows():\n",
    "            #here %S means string values \n",
    "            sql = \"INSERT INTO rainfall.rainfall_data VALUES (%s,%s,%s,%s,%s,%s)\"\n",
    "            cursor.execute(sql, tuple(row))\n",
    "            print(\"Record inserted\")\n",
    "            # the connection is not auto committed by default, so we must commit to save our changes\n",
    "#            conn.commit() # i wont commit this inside a loop to save computing resource, put it outside instead\n",
    "except Error as e:\n",
    "            print(\"Error while connecting to MySQL\", e)"
   ]
  },
  {
   "cell_type": "code",
   "execution_count": null,
   "metadata": {},
   "outputs": [],
   "source": [
    "conn.commit() #commit all into mysql"
   ]
  },
  {
   "cell_type": "markdown",
   "metadata": {},
   "source": [
    "## Step 4 : Query the Table (Using Jupyter), some prefer to just query using MySQL Workbench."
   ]
  },
  {
   "cell_type": "code",
   "execution_count": null,
   "metadata": {},
   "outputs": [],
   "source": [
    "# Execute query\n",
    "sql = \"SELECT * FROM rainfall.rainfall_data\"\n",
    "cursor.execute(sql)\n",
    "# Fetch all the records\n",
    "result = cursor.fetchall()\n",
    "for i in result:\n",
    "    print(i)"
   ]
  }
 ],
 "metadata": {
  "kernelspec": {
   "display_name": "Python 3",
   "language": "python",
   "name": "python3"
  },
  "language_info": {
   "codemirror_mode": {
    "name": "ipython",
    "version": 3
   },
   "file_extension": ".py",
   "mimetype": "text/x-python",
   "name": "python",
   "nbconvert_exporter": "python",
   "pygments_lexer": "ipython3",
   "version": "3.8.5"
  }
 },
 "nbformat": 4,
 "nbformat_minor": 4
}
